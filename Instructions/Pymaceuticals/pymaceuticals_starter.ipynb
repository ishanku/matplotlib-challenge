{
 "cells": [
  {
   "cell_type": "markdown",
   "metadata": {},
   "source": [
    "## Observations and Insights"
   ]
  },
  {
   "cell_type": "markdown",
   "metadata": {},
   "source": []
  },
  {
   "cell_type": "markdown",
   "metadata": {},
   "source": [
    "## Dependencies and starter code"
   ]
  },
  {
   "cell_type": "code",
   "execution_count": 69,
   "metadata": {},
   "outputs": [
    {
     "data": {
      "text/html": [
       "<div>\n",
       "<style scoped>\n",
       "    .dataframe tbody tr th:only-of-type {\n",
       "        vertical-align: middle;\n",
       "    }\n",
       "\n",
       "    .dataframe tbody tr th {\n",
       "        vertical-align: top;\n",
       "    }\n",
       "\n",
       "    .dataframe thead th {\n",
       "        text-align: right;\n",
       "    }\n",
       "</style>\n",
       "<table border=\"1\" class=\"dataframe\">\n",
       "  <thead>\n",
       "    <tr style=\"text-align: right;\">\n",
       "      <th></th>\n",
       "      <th>Mouse ID</th>\n",
       "      <th>Drug Regimen</th>\n",
       "      <th>Sex</th>\n",
       "      <th>Age_months</th>\n",
       "      <th>Weight (g)</th>\n",
       "      <th>Timepoint</th>\n",
       "      <th>Tumor Volume (mm3)</th>\n",
       "      <th>Metastatic Sites</th>\n",
       "    </tr>\n",
       "  </thead>\n",
       "  <tbody>\n",
       "    <tr>\n",
       "      <th>0</th>\n",
       "      <td>k403</td>\n",
       "      <td>Ramicane</td>\n",
       "      <td>Male</td>\n",
       "      <td>21</td>\n",
       "      <td>16</td>\n",
       "      <td>0</td>\n",
       "      <td>45.000000</td>\n",
       "      <td>0</td>\n",
       "    </tr>\n",
       "    <tr>\n",
       "      <th>1</th>\n",
       "      <td>k403</td>\n",
       "      <td>Ramicane</td>\n",
       "      <td>Male</td>\n",
       "      <td>21</td>\n",
       "      <td>16</td>\n",
       "      <td>5</td>\n",
       "      <td>38.825898</td>\n",
       "      <td>0</td>\n",
       "    </tr>\n",
       "    <tr>\n",
       "      <th>2</th>\n",
       "      <td>k403</td>\n",
       "      <td>Ramicane</td>\n",
       "      <td>Male</td>\n",
       "      <td>21</td>\n",
       "      <td>16</td>\n",
       "      <td>10</td>\n",
       "      <td>35.014271</td>\n",
       "      <td>1</td>\n",
       "    </tr>\n",
       "    <tr>\n",
       "      <th>3</th>\n",
       "      <td>k403</td>\n",
       "      <td>Ramicane</td>\n",
       "      <td>Male</td>\n",
       "      <td>21</td>\n",
       "      <td>16</td>\n",
       "      <td>15</td>\n",
       "      <td>34.223992</td>\n",
       "      <td>1</td>\n",
       "    </tr>\n",
       "    <tr>\n",
       "      <th>4</th>\n",
       "      <td>k403</td>\n",
       "      <td>Ramicane</td>\n",
       "      <td>Male</td>\n",
       "      <td>21</td>\n",
       "      <td>16</td>\n",
       "      <td>20</td>\n",
       "      <td>32.997729</td>\n",
       "      <td>1</td>\n",
       "    </tr>\n",
       "  </tbody>\n",
       "</table>\n",
       "</div>"
      ],
      "text/plain": [
       "  Mouse ID Drug Regimen   Sex  Age_months  Weight (g)  Timepoint  \\\n",
       "0     k403     Ramicane  Male          21          16          0   \n",
       "1     k403     Ramicane  Male          21          16          5   \n",
       "2     k403     Ramicane  Male          21          16         10   \n",
       "3     k403     Ramicane  Male          21          16         15   \n",
       "4     k403     Ramicane  Male          21          16         20   \n",
       "\n",
       "   Tumor Volume (mm3)  Metastatic Sites  \n",
       "0           45.000000                 0  \n",
       "1           38.825898                 0  \n",
       "2           35.014271                 1  \n",
       "3           34.223992                 1  \n",
       "4           32.997729                 1  "
      ]
     },
     "execution_count": 69,
     "metadata": {},
     "output_type": "execute_result"
    }
   ],
   "source": [
    "# Dependencies and Setup\n",
    "#%matplotlib notebook\n",
    "import matplotlib.pyplot as plt\n",
    "import pandas as pd\n",
    "import scipy.stats as st\n",
    "import numpy as np\n",
    "import scipy as sp\n",
    "\n",
    "# Study data files\n",
    "mouse_metadata = \"data/Mouse_metadata.csv\"\n",
    "study_results = \"data/Study_results.csv\"\n",
    "\n",
    "# Read the mouse data and the study results\n",
    "mouse_metadata = pd.read_csv(mouse_metadata)\n",
    "study_results = pd.read_csv(study_results)\n",
    "\n",
    "# Combine the data into a single dataset\n",
    "merged_data_complete = pd.merge(mouse_metadata, study_results, how=\"left\", on=[\"Mouse ID\", \"Mouse ID\"])\n",
    "merged_data_complete.head()"
   ]
  },
  {
   "cell_type": "markdown",
   "metadata": {},
   "source": [
    "## Summary statistics"
   ]
  },
  {
   "cell_type": "code",
   "execution_count": 457,
   "metadata": {
    "scrolled": true
   },
   "outputs": [
    {
     "data": {
      "text/html": [
       " <span style=\"color:#43609C\">Obeservations: <h1>Pymaceuticals Analysis</h1> </span>  "
      ],
      "text/plain": [
       "<IPython.core.display.HTML object>"
      ]
     },
     "metadata": {},
     "output_type": "display_data"
    },
    {
     "data": {
      "text/html": [
       " <ul><li>1. The outliner value found on Infubinol is on treatment stopped in earlier timepoint<br><img src=\"./output/FourRegimentStudyBoxPlot.png\" /></li>  "
      ],
      "text/plain": [
       "<IPython.core.display.HTML object>"
      ]
     },
     "metadata": {},
     "output_type": "display_data"
    },
    {
     "data": {
      "text/html": [
       " <li>2. The lower mean tumor volume is found in \"Capomulin\" & \"Ramicane\"<br> Capomulin Mean = 40.675741 <br> Ramicane Mean = 40.216745</li>  "
      ],
      "text/plain": [
       "<IPython.core.display.HTML object>"
      ]
     },
     "metadata": {},
     "output_type": "display_data"
    },
    {
     "data": {
      "text/html": [
       " <li>3. Capomilin treatment has helped reduce the tumor volume considerably at different timepoints<br>eg.,<br><img src=\"./output/TumorVolumeVsTimepoint_Mouse_s185.png\"></li></ul>  "
      ],
      "text/plain": [
       "<IPython.core.display.HTML object>"
      ]
     },
     "metadata": {},
     "output_type": "display_data"
    }
   ],
   "source": [
    "from IPython.display import display, HTML\n",
    "display(HTML(' <span style=\"color:#43609C\">Obeservations: <h1>Pymaceuticals Analysis</h1> </span>  '))\n",
    "display(HTML(' <ul><li>1. The outliner value found on Infubinol is on treatment stopped in earlier timepoint<br><img src=\"./output/FourRegimentStudyBoxPlot.png\" /></li>  '))\n",
    "display(HTML(' <li>2. The lower mean tumor volume is found in \"Capomulin\" & \"Ramicane\"<br> Capomulin Mean = 40.675741 <br> Ramicane Mean = 40.216745</li>  '))\n",
    "display(HTML(' <li>3. Capomilin treatment has helped reduce the tumor volume considerably at different timepoints<br>eg.,<br><img src=\"./output/TumorVolumeVsTimepoint_Mouse_s185.png\"></li></ul>  '))"
   ]
  },
  {
   "cell_type": "code",
   "execution_count": 2,
   "metadata": {},
   "outputs": [
    {
     "data": {
      "text/html": [
       "<div>\n",
       "<style scoped>\n",
       "    .dataframe tbody tr th:only-of-type {\n",
       "        vertical-align: middle;\n",
       "    }\n",
       "\n",
       "    .dataframe tbody tr th {\n",
       "        vertical-align: top;\n",
       "    }\n",
       "\n",
       "    .dataframe thead th {\n",
       "        text-align: right;\n",
       "    }\n",
       "</style>\n",
       "<table border=\"1\" class=\"dataframe\">\n",
       "  <thead>\n",
       "    <tr style=\"text-align: right;\">\n",
       "      <th></th>\n",
       "      <th>Mean</th>\n",
       "      <th>Median</th>\n",
       "      <th>Standard Deviation</th>\n",
       "      <th>Variance</th>\n",
       "      <th>SEM</th>\n",
       "    </tr>\n",
       "    <tr>\n",
       "      <th>Drug Regimen</th>\n",
       "      <th></th>\n",
       "      <th></th>\n",
       "      <th></th>\n",
       "      <th></th>\n",
       "      <th></th>\n",
       "    </tr>\n",
       "  </thead>\n",
       "  <tbody>\n",
       "    <tr>\n",
       "      <th>Capomulin</th>\n",
       "      <td>40.675741</td>\n",
       "      <td>41.557809</td>\n",
       "      <td>4.994774</td>\n",
       "      <td>24.947764</td>\n",
       "      <td>0.329346</td>\n",
       "    </tr>\n",
       "    <tr>\n",
       "      <th>Ceftamin</th>\n",
       "      <td>52.591172</td>\n",
       "      <td>51.776157</td>\n",
       "      <td>6.268188</td>\n",
       "      <td>39.290177</td>\n",
       "      <td>0.469821</td>\n",
       "    </tr>\n",
       "    <tr>\n",
       "      <th>Infubinol</th>\n",
       "      <td>52.884795</td>\n",
       "      <td>51.820584</td>\n",
       "      <td>6.567243</td>\n",
       "      <td>43.128684</td>\n",
       "      <td>0.492236</td>\n",
       "    </tr>\n",
       "    <tr>\n",
       "      <th>Ketapril</th>\n",
       "      <td>55.235638</td>\n",
       "      <td>53.698743</td>\n",
       "      <td>8.279709</td>\n",
       "      <td>68.553577</td>\n",
       "      <td>0.603860</td>\n",
       "    </tr>\n",
       "    <tr>\n",
       "      <th>Naftisol</th>\n",
       "      <td>54.331565</td>\n",
       "      <td>52.509285</td>\n",
       "      <td>8.134708</td>\n",
       "      <td>66.173479</td>\n",
       "      <td>0.596466</td>\n",
       "    </tr>\n",
       "    <tr>\n",
       "      <th>Placebo</th>\n",
       "      <td>54.033581</td>\n",
       "      <td>52.288934</td>\n",
       "      <td>7.821003</td>\n",
       "      <td>61.168083</td>\n",
       "      <td>0.581331</td>\n",
       "    </tr>\n",
       "    <tr>\n",
       "      <th>Propriva</th>\n",
       "      <td>52.322552</td>\n",
       "      <td>50.854632</td>\n",
       "      <td>6.507770</td>\n",
       "      <td>42.351070</td>\n",
       "      <td>0.512884</td>\n",
       "    </tr>\n",
       "    <tr>\n",
       "      <th>Ramicane</th>\n",
       "      <td>40.216745</td>\n",
       "      <td>40.673236</td>\n",
       "      <td>4.846308</td>\n",
       "      <td>23.486704</td>\n",
       "      <td>0.320955</td>\n",
       "    </tr>\n",
       "    <tr>\n",
       "      <th>Stelasyn</th>\n",
       "      <td>54.233149</td>\n",
       "      <td>52.431737</td>\n",
       "      <td>7.710419</td>\n",
       "      <td>59.450562</td>\n",
       "      <td>0.573111</td>\n",
       "    </tr>\n",
       "    <tr>\n",
       "      <th>Zoniferol</th>\n",
       "      <td>53.236507</td>\n",
       "      <td>51.818479</td>\n",
       "      <td>6.966589</td>\n",
       "      <td>48.533355</td>\n",
       "      <td>0.516398</td>\n",
       "    </tr>\n",
       "  </tbody>\n",
       "</table>\n",
       "</div>"
      ],
      "text/plain": [
       "                   Mean     Median  Standard Deviation   Variance       SEM\n",
       "Drug Regimen                                                               \n",
       "Capomulin     40.675741  41.557809            4.994774  24.947764  0.329346\n",
       "Ceftamin      52.591172  51.776157            6.268188  39.290177  0.469821\n",
       "Infubinol     52.884795  51.820584            6.567243  43.128684  0.492236\n",
       "Ketapril      55.235638  53.698743            8.279709  68.553577  0.603860\n",
       "Naftisol      54.331565  52.509285            8.134708  66.173479  0.596466\n",
       "Placebo       54.033581  52.288934            7.821003  61.168083  0.581331\n",
       "Propriva      52.322552  50.854632            6.507770  42.351070  0.512884\n",
       "Ramicane      40.216745  40.673236            4.846308  23.486704  0.320955\n",
       "Stelasyn      54.233149  52.431737            7.710419  59.450562  0.573111\n",
       "Zoniferol     53.236507  51.818479            6.966589  48.533355  0.516398"
      ]
     },
     "execution_count": 2,
     "metadata": {},
     "output_type": "execute_result"
    }
   ],
   "source": [
    "# Generate a summary statistics table of mean, median, variance, standard deviation, and SEM of the tumor volume for each regimen\n",
    "drugregimen= merged_data_complete.groupby(\"Drug Regimen\")\n",
    "#drugregimen[\"Tumor Volume (mm3)\"].describe()\n",
    "#Mean_TumorVolume_ForDrugs=drugregimen[\"Tumor Volume (mm3)\"].describe()[\"mean\"]\n",
    "Mean_TumorVolume_ForDrugs=drugregimen[\"Tumor Volume (mm3)\"].describe()[\"mean\"]\n",
    "Median_TumorVolume_ForDrugs=drugregimen[\"Tumor Volume (mm3)\"].describe()[\"50%\"]\n",
    "STD_TumorVolume_ForDrugs=drugregimen[\"Tumor Volume (mm3)\"].describe()[\"std\"]\n",
    "Variance_TumorVolume_ForDrugs=drugregimen[\"Tumor Volume (mm3)\"].var()\n",
    "SEM_TumorVolume_ForDrugs=drugregimen[\"Tumor Volume (mm3)\"].sem()\n",
    "Drug_Stat_Summary=pd.DataFrame({\"Mean\":Mean_TumorVolume_ForDrugs,\"Median\":Median_TumorVolume_ForDrugs,\"Standard Deviation\":STD_TumorVolume_ForDrugs,\n",
    "                               \"Variance\":Variance_TumorVolume_ForDrugs,\"SEM\":SEM_TumorVolume_ForDrugs})\n",
    "Drug_Stat_Summary"
   ]
  },
  {
   "cell_type": "code",
   "execution_count": 3,
   "metadata": {},
   "outputs": [
    {
     "data": {
      "text/html": [
       "<div>\n",
       "<style scoped>\n",
       "    .dataframe tbody tr th:only-of-type {\n",
       "        vertical-align: middle;\n",
       "    }\n",
       "\n",
       "    .dataframe tbody tr th {\n",
       "        vertical-align: top;\n",
       "    }\n",
       "\n",
       "    .dataframe thead th {\n",
       "        text-align: right;\n",
       "    }\n",
       "</style>\n",
       "<table border=\"1\" class=\"dataframe\">\n",
       "  <thead>\n",
       "    <tr style=\"text-align: right;\">\n",
       "      <th></th>\n",
       "      <th>count</th>\n",
       "      <th>mean</th>\n",
       "      <th>std</th>\n",
       "      <th>min</th>\n",
       "      <th>25%</th>\n",
       "      <th>50%</th>\n",
       "      <th>75%</th>\n",
       "      <th>max</th>\n",
       "    </tr>\n",
       "    <tr>\n",
       "      <th>Drug Regimen</th>\n",
       "      <th></th>\n",
       "      <th></th>\n",
       "      <th></th>\n",
       "      <th></th>\n",
       "      <th></th>\n",
       "      <th></th>\n",
       "      <th></th>\n",
       "      <th></th>\n",
       "    </tr>\n",
       "  </thead>\n",
       "  <tbody>\n",
       "    <tr>\n",
       "      <th>Capomulin</th>\n",
       "      <td>230.0</td>\n",
       "      <td>40.68</td>\n",
       "      <td>4.99</td>\n",
       "      <td>23.34</td>\n",
       "      <td>37.69</td>\n",
       "      <td>41.56</td>\n",
       "      <td>45.00</td>\n",
       "      <td>48.16</td>\n",
       "    </tr>\n",
       "    <tr>\n",
       "      <th>Ceftamin</th>\n",
       "      <td>178.0</td>\n",
       "      <td>52.59</td>\n",
       "      <td>6.27</td>\n",
       "      <td>45.00</td>\n",
       "      <td>47.21</td>\n",
       "      <td>51.78</td>\n",
       "      <td>56.80</td>\n",
       "      <td>68.92</td>\n",
       "    </tr>\n",
       "    <tr>\n",
       "      <th>Infubinol</th>\n",
       "      <td>178.0</td>\n",
       "      <td>52.88</td>\n",
       "      <td>6.57</td>\n",
       "      <td>36.32</td>\n",
       "      <td>47.31</td>\n",
       "      <td>51.82</td>\n",
       "      <td>57.31</td>\n",
       "      <td>72.23</td>\n",
       "    </tr>\n",
       "    <tr>\n",
       "      <th>Ketapril</th>\n",
       "      <td>188.0</td>\n",
       "      <td>55.24</td>\n",
       "      <td>8.28</td>\n",
       "      <td>45.00</td>\n",
       "      <td>48.23</td>\n",
       "      <td>53.70</td>\n",
       "      <td>60.87</td>\n",
       "      <td>78.57</td>\n",
       "    </tr>\n",
       "    <tr>\n",
       "      <th>Naftisol</th>\n",
       "      <td>186.0</td>\n",
       "      <td>54.33</td>\n",
       "      <td>8.13</td>\n",
       "      <td>45.00</td>\n",
       "      <td>47.29</td>\n",
       "      <td>52.51</td>\n",
       "      <td>59.96</td>\n",
       "      <td>76.67</td>\n",
       "    </tr>\n",
       "    <tr>\n",
       "      <th>Placebo</th>\n",
       "      <td>181.0</td>\n",
       "      <td>54.03</td>\n",
       "      <td>7.82</td>\n",
       "      <td>45.00</td>\n",
       "      <td>47.46</td>\n",
       "      <td>52.29</td>\n",
       "      <td>59.92</td>\n",
       "      <td>73.21</td>\n",
       "    </tr>\n",
       "    <tr>\n",
       "      <th>Propriva</th>\n",
       "      <td>161.0</td>\n",
       "      <td>52.32</td>\n",
       "      <td>6.51</td>\n",
       "      <td>45.00</td>\n",
       "      <td>47.08</td>\n",
       "      <td>50.85</td>\n",
       "      <td>56.18</td>\n",
       "      <td>72.46</td>\n",
       "    </tr>\n",
       "    <tr>\n",
       "      <th>Ramicane</th>\n",
       "      <td>228.0</td>\n",
       "      <td>40.22</td>\n",
       "      <td>4.85</td>\n",
       "      <td>22.05</td>\n",
       "      <td>36.67</td>\n",
       "      <td>40.67</td>\n",
       "      <td>45.00</td>\n",
       "      <td>47.62</td>\n",
       "    </tr>\n",
       "    <tr>\n",
       "      <th>Stelasyn</th>\n",
       "      <td>181.0</td>\n",
       "      <td>54.23</td>\n",
       "      <td>7.71</td>\n",
       "      <td>45.00</td>\n",
       "      <td>48.05</td>\n",
       "      <td>52.43</td>\n",
       "      <td>58.72</td>\n",
       "      <td>75.12</td>\n",
       "    </tr>\n",
       "    <tr>\n",
       "      <th>Zoniferol</th>\n",
       "      <td>182.0</td>\n",
       "      <td>53.24</td>\n",
       "      <td>6.97</td>\n",
       "      <td>45.00</td>\n",
       "      <td>47.34</td>\n",
       "      <td>51.82</td>\n",
       "      <td>57.95</td>\n",
       "      <td>73.32</td>\n",
       "    </tr>\n",
       "  </tbody>\n",
       "</table>\n",
       "</div>"
      ],
      "text/plain": [
       "              count   mean   std    min    25%    50%    75%    max\n",
       "Drug Regimen                                                       \n",
       "Capomulin     230.0  40.68  4.99  23.34  37.69  41.56  45.00  48.16\n",
       "Ceftamin      178.0  52.59  6.27  45.00  47.21  51.78  56.80  68.92\n",
       "Infubinol     178.0  52.88  6.57  36.32  47.31  51.82  57.31  72.23\n",
       "Ketapril      188.0  55.24  8.28  45.00  48.23  53.70  60.87  78.57\n",
       "Naftisol      186.0  54.33  8.13  45.00  47.29  52.51  59.96  76.67\n",
       "Placebo       181.0  54.03  7.82  45.00  47.46  52.29  59.92  73.21\n",
       "Propriva      161.0  52.32  6.51  45.00  47.08  50.85  56.18  72.46\n",
       "Ramicane      228.0  40.22  4.85  22.05  36.67  40.67  45.00  47.62\n",
       "Stelasyn      181.0  54.23  7.71  45.00  48.05  52.43  58.72  75.12\n",
       "Zoniferol     182.0  53.24  6.97  45.00  47.34  51.82  57.95  73.32"
      ]
     },
     "execution_count": 3,
     "metadata": {},
     "output_type": "execute_result"
    }
   ],
   "source": [
    "Statistics_Report_DF= pd.DataFrame(round(drugregimen[\"Tumor Volume (mm3)\"].describe(),2))\n",
    "Statistics_Report_DF"
   ]
  },
  {
   "cell_type": "markdown",
   "metadata": {},
   "source": [
    "## Bar plots"
   ]
  },
  {
   "cell_type": "code",
   "execution_count": 4,
   "metadata": {},
   "outputs": [
    {
     "data": {
      "text/html": [
       "<div>\n",
       "<style scoped>\n",
       "    .dataframe tbody tr th:only-of-type {\n",
       "        vertical-align: middle;\n",
       "    }\n",
       "\n",
       "    .dataframe tbody tr th {\n",
       "        vertical-align: top;\n",
       "    }\n",
       "\n",
       "    .dataframe thead th {\n",
       "        text-align: right;\n",
       "    }\n",
       "</style>\n",
       "<table border=\"1\" class=\"dataframe\">\n",
       "  <thead>\n",
       "    <tr style=\"text-align: right;\">\n",
       "      <th></th>\n",
       "      <th>Count</th>\n",
       "    </tr>\n",
       "    <tr>\n",
       "      <th>Drug Regimen</th>\n",
       "      <th></th>\n",
       "    </tr>\n",
       "  </thead>\n",
       "  <tbody>\n",
       "    <tr>\n",
       "      <th>Capomulin</th>\n",
       "      <td>230</td>\n",
       "    </tr>\n",
       "    <tr>\n",
       "      <th>Ceftamin</th>\n",
       "      <td>178</td>\n",
       "    </tr>\n",
       "    <tr>\n",
       "      <th>Infubinol</th>\n",
       "      <td>178</td>\n",
       "    </tr>\n",
       "    <tr>\n",
       "      <th>Ketapril</th>\n",
       "      <td>188</td>\n",
       "    </tr>\n",
       "    <tr>\n",
       "      <th>Naftisol</th>\n",
       "      <td>186</td>\n",
       "    </tr>\n",
       "    <tr>\n",
       "      <th>Placebo</th>\n",
       "      <td>181</td>\n",
       "    </tr>\n",
       "    <tr>\n",
       "      <th>Propriva</th>\n",
       "      <td>161</td>\n",
       "    </tr>\n",
       "    <tr>\n",
       "      <th>Ramicane</th>\n",
       "      <td>228</td>\n",
       "    </tr>\n",
       "    <tr>\n",
       "      <th>Stelasyn</th>\n",
       "      <td>181</td>\n",
       "    </tr>\n",
       "    <tr>\n",
       "      <th>Zoniferol</th>\n",
       "      <td>182</td>\n",
       "    </tr>\n",
       "  </tbody>\n",
       "</table>\n",
       "</div>"
      ],
      "text/plain": [
       "              Count\n",
       "Drug Regimen       \n",
       "Capomulin       230\n",
       "Ceftamin        178\n",
       "Infubinol       178\n",
       "Ketapril        188\n",
       "Naftisol        186\n",
       "Placebo         181\n",
       "Propriva        161\n",
       "Ramicane        228\n",
       "Stelasyn        181\n",
       "Zoniferol       182"
      ]
     },
     "execution_count": 4,
     "metadata": {},
     "output_type": "execute_result"
    }
   ],
   "source": [
    "Statistics_TotalDataPoints= pd.DataFrame({\"Count\":round(drugregimen[\"Tumor Volume (mm3)\"].count(),2)})\n",
    "Statistics_TotalDataPoints"
   ]
  },
  {
   "cell_type": "code",
   "execution_count": 419,
   "metadata": {},
   "outputs": [
    {
     "data": {
      "image/png": "[encoded data removed]",
      "text/plain": [
       "<Figure size 720x360 with 1 Axes>"
      ]
     },
     "metadata": {},
     "output_type": "display_data"
    }
   ],
   "source": [
    "TotalDataPoints_Pandas_Bar_Plot=Statistics_TotalDataPoints.plot(kind=\"bar\",title='Treatment Reponse',figsize=(10,5),rot=0)"
   ]
  },
  {
   "cell_type": "code",
   "execution_count": 418,
   "metadata": {},
   "outputs": [
    {
     "data": {
      "image/png": "[encoded data removed]",
      "text/plain": [
       "<Figure size 720x360 with 1 Axes>"
      ]
     },
     "metadata": {},
     "output_type": "display_data"
    }
   ],
   "source": [
    "x_axis=Statistics_TotalDataPoints.index\n",
    "plt.figure(figsize=(10,5))\n",
    "plt.bar(x_axis, Statistics_TotalDataPoints[\"Count\"], alpha=1, align=\"center\",width=0.52)\n",
    "plt.title(\"Treatment Reponse\")\n",
    "plt.xlabel(\"Drug Regimen\")\n",
    "plt.ylabel(\"Count\")\n",
    "plt.savefig(\"./output/TreatmentResponse.png\")\n",
    "plt.show()"
   ]
  },
  {
   "cell_type": "markdown",
   "metadata": {},
   "source": [
    "## Pie plots"
   ]
  },
  {
   "cell_type": "code",
   "execution_count": 7,
   "metadata": {},
   "outputs": [
    {
     "data": {
      "text/html": [
       "<div>\n",
       "<style scoped>\n",
       "    .dataframe tbody tr th:only-of-type {\n",
       "        vertical-align: middle;\n",
       "    }\n",
       "\n",
       "    .dataframe tbody tr th {\n",
       "        vertical-align: top;\n",
       "    }\n",
       "\n",
       "    .dataframe thead th {\n",
       "        text-align: right;\n",
       "    }\n",
       "</style>\n",
       "<table border=\"1\" class=\"dataframe\">\n",
       "  <thead>\n",
       "    <tr style=\"text-align: right;\">\n",
       "      <th></th>\n",
       "      <th>Count</th>\n",
       "    </tr>\n",
       "    <tr>\n",
       "      <th>Sex</th>\n",
       "      <th></th>\n",
       "    </tr>\n",
       "  </thead>\n",
       "  <tbody>\n",
       "    <tr>\n",
       "      <th>Female</th>\n",
       "      <td>935</td>\n",
       "    </tr>\n",
       "    <tr>\n",
       "      <th>Male</th>\n",
       "      <td>958</td>\n",
       "    </tr>\n",
       "  </tbody>\n",
       "</table>\n",
       "</div>"
      ],
      "text/plain": [
       "        Count\n",
       "Sex          \n",
       "Female    935\n",
       "Male      958"
      ]
     },
     "execution_count": 7,
     "metadata": {},
     "output_type": "execute_result"
    }
   ],
   "source": [
    "GenderGroup= merged_data_complete.groupby(\"Sex\")\n",
    "GenderStatistics_TotalDataPoints= pd.DataFrame({\"Count\":round(GenderGroup[\"Tumor Volume (mm3)\"].count(),2)})\n",
    "GenderStatistics_TotalDataPoints"
   ]
  },
  {
   "cell_type": "code",
   "execution_count": 420,
   "metadata": {},
   "outputs": [
    {
     "data": {
      "image/png": "[encoded data removed]",
      "text/plain": [
       "<Figure size 360x360 with 1 Axes>"
      ]
     },
     "metadata": {},
     "output_type": "display_data"
    }
   ],
   "source": [
    "# Generate a pie plot showing the distribution of female versus male mice using pandas\n",
    "PieAngle=150\n",
    "GenderStatistics_TotalDataPoints_Pandas_Pie=GenderStatistics_TotalDataPoints.plot.pie(figsize=(5, 5),subplots=True,title=\"Gender Statistics\",autopct=\"%1.1f%%\",shadow=True, startangle=PieAngle)\n",
    "plt.savefig(\"./output/PandasGenderStatistics.png\")"
   ]
  },
  {
   "cell_type": "code",
   "execution_count": 421,
   "metadata": {},
   "outputs": [
    {
     "data": {
      "image/png": "[encoded data removed]",
      "text/plain": [
       "<Figure size 432x288 with 1 Axes>"
      ]
     },
     "metadata": {},
     "output_type": "display_data"
    }
   ],
   "source": [
    "# Generate a pie plot showing the distribution of female versus male mice using pyplot\n",
    "plt.pie(GenderStatistics_TotalDataPoints['Count'],explode=None,shadow=True, labels=GenderStatistics_TotalDataPoints.index,autopct=\"%1.1f%%\",startangle=PieAngle)\n",
    "plt.savefig(\"./output/PyplotGenderStatistics.png\")\n",
    "plt.show()"
   ]
  },
  {
   "cell_type": "markdown",
   "metadata": {},
   "source": [
    "## Quartiles, outliers and boxplots"
   ]
  },
  {
   "cell_type": "code",
   "execution_count": 224,
   "metadata": {},
   "outputs": [],
   "source": [
    "#Calculate the final tumor volume of each mouse across four of the most promising treatment regimens: \n",
    "#Capomulin, Ramicane, Infubinol, and Ceftamin.\n",
    "#Calculate the quartiles and IQR and quantitatively determine if there are any potential outliers across all four treatment regimens.\n",
    "#Using Matplotlib, generate a box and whisker plot of the final tumor volume for all four treatment regimens and highlight any potential outliers in the plot by changing their color and style."
   ]
  },
  {
   "cell_type": "code",
   "execution_count": 435,
   "metadata": {},
   "outputs": [],
   "source": [
    "FourRegimensForStudy = [\"Capomulin\",\"Ramicane\",\"Infubinol\",\"Ceftamin\"]\n",
    "Capomulin=pd.DataFrame((merged_data_complete.loc[(merged_data_complete[\"Drug Regimen\"] == 'Capomulin')]).sort_values(by=[\"Timepoint\"]).groupby('Mouse ID').last())\n",
    "Ramicane=pd.DataFrame((merged_data_complete.loc[(merged_data_complete[\"Drug Regimen\"] == 'Ramicane')]).sort_values(by=[\"Timepoint\"]).groupby('Mouse ID').last())\n",
    "Infubinol=pd.DataFrame((merged_data_complete.loc[(merged_data_complete[\"Drug Regimen\"] == 'Infubinol')]).sort_values(by=[\"Timepoint\"]).groupby('Mouse ID').last())\n",
    "Ceftamin=pd.DataFrame((merged_data_complete.loc[(merged_data_complete[\"Drug Regimen\"] == 'Ceftamin')]).sort_values(by=[\"Timepoint\"]).groupby('Mouse ID').last())"
   ]
  },
  {
   "cell_type": "code",
   "execution_count": 346,
   "metadata": {},
   "outputs": [
    {
     "data": {
      "text/html": [
       "<div>\n",
       "<style scoped>\n",
       "    .dataframe tbody tr th:only-of-type {\n",
       "        vertical-align: middle;\n",
       "    }\n",
       "\n",
       "    .dataframe tbody tr th {\n",
       "        vertical-align: top;\n",
       "    }\n",
       "\n",
       "    .dataframe thead th {\n",
       "        text-align: right;\n",
       "    }\n",
       "</style>\n",
       "<table border=\"1\" class=\"dataframe\">\n",
       "  <thead>\n",
       "    <tr style=\"text-align: right;\">\n",
       "      <th></th>\n",
       "      <th>Drug Regimen</th>\n",
       "      <th>Sex</th>\n",
       "      <th>Age_months</th>\n",
       "      <th>Weight (g)</th>\n",
       "      <th>Timepoint</th>\n",
       "      <th>Tumor Volume (mm3)</th>\n",
       "      <th>Metastatic Sites</th>\n",
       "    </tr>\n",
       "    <tr>\n",
       "      <th>Mouse ID</th>\n",
       "      <th></th>\n",
       "      <th></th>\n",
       "      <th></th>\n",
       "      <th></th>\n",
       "      <th></th>\n",
       "      <th></th>\n",
       "      <th></th>\n",
       "    </tr>\n",
       "  </thead>\n",
       "  <tbody>\n",
       "  </tbody>\n",
       "</table>\n",
       "</div>"
      ],
      "text/plain": [
       "Empty DataFrame\n",
       "Columns: [Drug Regimen, Sex, Age_months, Weight (g), Timepoint, Tumor Volume (mm3), Metastatic Sites]\n",
       "Index: []"
      ]
     },
     "execution_count": 346,
     "metadata": {},
     "output_type": "execute_result"
    }
   ],
   "source": [
    "CAQuartiles = Capomulin[\"Tumor Volume (mm3)\"].quantile([.25,.5,.75])\n",
    "CALowerQ = CAQuartiles[0.25]\n",
    "CAUpperQ = CAQuartiles[0.75]\n",
    "CAIQR= CAUpperQ-CALowerQ\n",
    "CALowerBound = CALowerQ - (1.5*CAIQR)\n",
    "CAUpperBound = CAUpperQ + (1.5*CAIQR)\n",
    "CapomulinPotentialOutlier = Capomulin.loc[(Capomulin['Tumor Volume (mm3)'] < CALowerBound) |( Capomulin['Tumor Volume (mm3)'] > CAUpperBound)]\n",
    "Capomulin_Analysis = pd.DataFrame({\"Drug\":\"Capomulin\",\"LowerQ\":CALowerQ,\"Median\":CAQuartiles[0.5],\"UpperQ\":CAUpperQ,\"IQR\":CAIQR,\"Lower Bound\":CALowerBound,\"Upper Bound\":CAUpperBound}, index=[0])\n",
    "CapomulinPotentialOutlier"
   ]
  },
  {
   "cell_type": "code",
   "execution_count": 353,
   "metadata": {},
   "outputs": [
    {
     "data": {
      "text/html": [
       "<div>\n",
       "<style scoped>\n",
       "    .dataframe tbody tr th:only-of-type {\n",
       "        vertical-align: middle;\n",
       "    }\n",
       "\n",
       "    .dataframe tbody tr th {\n",
       "        vertical-align: top;\n",
       "    }\n",
       "\n",
       "    .dataframe thead th {\n",
       "        text-align: right;\n",
       "    }\n",
       "</style>\n",
       "<table border=\"1\" class=\"dataframe\">\n",
       "  <thead>\n",
       "    <tr style=\"text-align: right;\">\n",
       "      <th></th>\n",
       "      <th>Drug Regimen</th>\n",
       "      <th>Sex</th>\n",
       "      <th>Age_months</th>\n",
       "      <th>Weight (g)</th>\n",
       "      <th>Timepoint</th>\n",
       "      <th>Tumor Volume (mm3)</th>\n",
       "      <th>Metastatic Sites</th>\n",
       "    </tr>\n",
       "    <tr>\n",
       "      <th>Mouse ID</th>\n",
       "      <th></th>\n",
       "      <th></th>\n",
       "      <th></th>\n",
       "      <th></th>\n",
       "      <th></th>\n",
       "      <th></th>\n",
       "      <th></th>\n",
       "    </tr>\n",
       "  </thead>\n",
       "  <tbody>\n",
       "  </tbody>\n",
       "</table>\n",
       "</div>"
      ],
      "text/plain": [
       "Empty DataFrame\n",
       "Columns: [Drug Regimen, Sex, Age_months, Weight (g), Timepoint, Tumor Volume (mm3), Metastatic Sites]\n",
       "Index: []"
      ]
     },
     "execution_count": 353,
     "metadata": {},
     "output_type": "execute_result"
    }
   ],
   "source": [
    "RAQuartiles = Ramicane[\"Tumor Volume (mm3)\"].quantile([.25,.5,.75])\n",
    "RALowerQ = RAQuartiles[0.25]\n",
    "RAUpperQ = RAQuartiles[0.75]\n",
    "RAIQR= RAUpperQ-RALowerQ\n",
    "RALowerBound = RALowerQ - (1.5*RAIQR)\n",
    "RAUpperBound = RAUpperQ + (1.5*RAIQR)\n",
    "RamicanePotentialOutlier = Ramicane.loc[(Ramicane['Tumor Volume (mm3)'] < RALowerBound) |( Ramicane['Tumor Volume (mm3)'] > RAUpperBound)]\n",
    "Ramicane_Analysis = pd.DataFrame({\"Drug\":\"Ramicane\",\"LowerQ\":RALowerQ,\"Median\":RAQuartiles[0.5],\"UpperQ\":RAUpperQ,\"IQR\":RAIQR,\"Lower Bound\":RALowerBound,\"Upper Bound\":RAUpperBound}, index=[0])\n",
    "RamicanePotentialOutlier"
   ]
  },
  {
   "cell_type": "code",
   "execution_count": 354,
   "metadata": {},
   "outputs": [
    {
     "data": {
      "text/html": [
       "<div>\n",
       "<style scoped>\n",
       "    .dataframe tbody tr th:only-of-type {\n",
       "        vertical-align: middle;\n",
       "    }\n",
       "\n",
       "    .dataframe tbody tr th {\n",
       "        vertical-align: top;\n",
       "    }\n",
       "\n",
       "    .dataframe thead th {\n",
       "        text-align: right;\n",
       "    }\n",
       "</style>\n",
       "<table border=\"1\" class=\"dataframe\">\n",
       "  <thead>\n",
       "    <tr style=\"text-align: right;\">\n",
       "      <th></th>\n",
       "      <th>Drug Regimen</th>\n",
       "      <th>Sex</th>\n",
       "      <th>Age_months</th>\n",
       "      <th>Weight (g)</th>\n",
       "      <th>Timepoint</th>\n",
       "      <th>Tumor Volume (mm3)</th>\n",
       "      <th>Metastatic Sites</th>\n",
       "    </tr>\n",
       "    <tr>\n",
       "      <th>Mouse ID</th>\n",
       "      <th></th>\n",
       "      <th></th>\n",
       "      <th></th>\n",
       "      <th></th>\n",
       "      <th></th>\n",
       "      <th></th>\n",
       "      <th></th>\n",
       "    </tr>\n",
       "  </thead>\n",
       "  <tbody>\n",
       "    <tr>\n",
       "      <th>c326</th>\n",
       "      <td>Infubinol</td>\n",
       "      <td>Female</td>\n",
       "      <td>18</td>\n",
       "      <td>25</td>\n",
       "      <td>5</td>\n",
       "      <td>36.321346</td>\n",
       "      <td>0</td>\n",
       "    </tr>\n",
       "  </tbody>\n",
       "</table>\n",
       "</div>"
      ],
      "text/plain": [
       "         Drug Regimen     Sex  Age_months  Weight (g)  Timepoint  \\\n",
       "Mouse ID                                                           \n",
       "c326        Infubinol  Female          18          25          5   \n",
       "\n",
       "          Tumor Volume (mm3)  Metastatic Sites  \n",
       "Mouse ID                                        \n",
       "c326               36.321346                 0  "
      ]
     },
     "execution_count": 354,
     "metadata": {},
     "output_type": "execute_result"
    }
   ],
   "source": [
    "INQuartiles =Infubinol[\"Tumor Volume (mm3)\"].quantile([.25,.5,.75])\n",
    "INLowerQ = INQuartiles[0.25]\n",
    "INUpperQ = INQuartiles[0.75]\n",
    "INIQR= INUpperQ-INLowerQ\n",
    "INLowerBound = INLowerQ - (1.5*INIQR)\n",
    "INUpperBound = INUpperQ + (1.5*INIQR)\n",
    "InfubinolPotentialOutlier = Infubinol.loc[(Infubinol['Tumor Volume (mm3)'] < INLowerBound) |( Infubinol['Tumor Volume (mm3)'] > INUpperBound)]\n",
    "Infubinol_Analysis = pd.DataFrame({\"Drug\":\"Infubinol\",\"LowerQ\":INLowerQ,\"Median\":INQuartiles[0.5],\"UpperQ\":INUpperQ,\"IQR\":INIQR,\"Lower Bound\":INLowerBound,\"Upper Bound\":INUpperBound}, index=[0])\n",
    "InfubinolPotentialOutlier"
   ]
  },
  {
   "cell_type": "code",
   "execution_count": 355,
   "metadata": {},
   "outputs": [
    {
     "data": {
      "text/html": [
       "<div>\n",
       "<style scoped>\n",
       "    .dataframe tbody tr th:only-of-type {\n",
       "        vertical-align: middle;\n",
       "    }\n",
       "\n",
       "    .dataframe tbody tr th {\n",
       "        vertical-align: top;\n",
       "    }\n",
       "\n",
       "    .dataframe thead th {\n",
       "        text-align: right;\n",
       "    }\n",
       "</style>\n",
       "<table border=\"1\" class=\"dataframe\">\n",
       "  <thead>\n",
       "    <tr style=\"text-align: right;\">\n",
       "      <th></th>\n",
       "      <th>Drug Regimen</th>\n",
       "      <th>Sex</th>\n",
       "      <th>Age_months</th>\n",
       "      <th>Weight (g)</th>\n",
       "      <th>Timepoint</th>\n",
       "      <th>Tumor Volume (mm3)</th>\n",
       "      <th>Metastatic Sites</th>\n",
       "    </tr>\n",
       "    <tr>\n",
       "      <th>Mouse ID</th>\n",
       "      <th></th>\n",
       "      <th></th>\n",
       "      <th></th>\n",
       "      <th></th>\n",
       "      <th></th>\n",
       "      <th></th>\n",
       "      <th></th>\n",
       "    </tr>\n",
       "  </thead>\n",
       "  <tbody>\n",
       "  </tbody>\n",
       "</table>\n",
       "</div>"
      ],
      "text/plain": [
       "Empty DataFrame\n",
       "Columns: [Drug Regimen, Sex, Age_months, Weight (g), Timepoint, Tumor Volume (mm3), Metastatic Sites]\n",
       "Index: []"
      ]
     },
     "execution_count": 355,
     "metadata": {},
     "output_type": "execute_result"
    }
   ],
   "source": [
    "Quartiles = Ceftamin[\"Tumor Volume (mm3)\"].quantile([.25,.5,.75])\n",
    "LowerQ = Quartiles[0.25]\n",
    "UpperQ = Quartiles[0.75]\n",
    "IQR= UpperQ-LowerQ\n",
    "LowerBound = LowerQ - (1.5*IQR)\n",
    "UpperBound = UpperQ + (1.5*IQR)\n",
    "CeftaminPotentialOutlier = Ceftamin.loc[(Ceftamin['Tumor Volume (mm3)'] < LowerBound) |( Ceftamin['Tumor Volume (mm3)'] > UpperBound)]\n",
    "Ceftamin_Analysis = pd.DataFrame({\"Drug\":\"Ceftamin\",\"LowerQ\":LowerQ,\"Median\":Quartiles[0.5],\"UpperQ\":UpperQ,\"IQR\":IQR,\"Lower Bound\":LowerBound,\"Upper Bound\":UpperBound}, index=[0])\n",
    "CeftaminPotentialOutlier "
   ]
  },
  {
   "cell_type": "code",
   "execution_count": 351,
   "metadata": {},
   "outputs": [
    {
     "data": {
      "text/html": [
       "<div>\n",
       "<style scoped>\n",
       "    .dataframe tbody tr th:only-of-type {\n",
       "        vertical-align: middle;\n",
       "    }\n",
       "\n",
       "    .dataframe tbody tr th {\n",
       "        vertical-align: top;\n",
       "    }\n",
       "\n",
       "    .dataframe thead th {\n",
       "        text-align: right;\n",
       "    }\n",
       "</style>\n",
       "<table border=\"1\" class=\"dataframe\">\n",
       "  <thead>\n",
       "    <tr style=\"text-align: right;\">\n",
       "      <th></th>\n",
       "      <th>Drug</th>\n",
       "      <th>LowerQ</th>\n",
       "      <th>Median</th>\n",
       "      <th>UpperQ</th>\n",
       "      <th>IQR</th>\n",
       "      <th>Lower Bound</th>\n",
       "      <th>Upper Bound</th>\n",
       "    </tr>\n",
       "  </thead>\n",
       "  <tbody>\n",
       "    <tr>\n",
       "      <th>0</th>\n",
       "      <td>Capomulin</td>\n",
       "      <td>32.377357</td>\n",
       "      <td>38.125164</td>\n",
       "      <td>40.159220</td>\n",
       "      <td>7.781863</td>\n",
       "      <td>20.704562</td>\n",
       "      <td>51.832015</td>\n",
       "    </tr>\n",
       "    <tr>\n",
       "      <th>0</th>\n",
       "      <td>Ramicane</td>\n",
       "      <td>31.560470</td>\n",
       "      <td>36.561652</td>\n",
       "      <td>40.659006</td>\n",
       "      <td>9.098537</td>\n",
       "      <td>17.912664</td>\n",
       "      <td>54.306811</td>\n",
       "    </tr>\n",
       "    <tr>\n",
       "      <th>0</th>\n",
       "      <td>Infubinol</td>\n",
       "      <td>54.048608</td>\n",
       "      <td>60.165180</td>\n",
       "      <td>65.525743</td>\n",
       "      <td>11.477135</td>\n",
       "      <td>36.832905</td>\n",
       "      <td>82.741446</td>\n",
       "    </tr>\n",
       "    <tr>\n",
       "      <th>0</th>\n",
       "      <td>Ceftamin</td>\n",
       "      <td>48.722078</td>\n",
       "      <td>59.851956</td>\n",
       "      <td>64.299830</td>\n",
       "      <td>15.577752</td>\n",
       "      <td>25.355450</td>\n",
       "      <td>87.666458</td>\n",
       "    </tr>\n",
       "  </tbody>\n",
       "</table>\n",
       "</div>"
      ],
      "text/plain": [
       "        Drug     LowerQ     Median     UpperQ        IQR  Lower Bound  \\\n",
       "0  Capomulin  32.377357  38.125164  40.159220   7.781863    20.704562   \n",
       "0   Ramicane  31.560470  36.561652  40.659006   9.098537    17.912664   \n",
       "0  Infubinol  54.048608  60.165180  65.525743  11.477135    36.832905   \n",
       "0   Ceftamin  48.722078  59.851956  64.299830  15.577752    25.355450   \n",
       "\n",
       "   Upper Bound  \n",
       "0    51.832015  \n",
       "0    54.306811  \n",
       "0    82.741446  \n",
       "0    87.666458  "
      ]
     },
     "execution_count": 351,
     "metadata": {},
     "output_type": "execute_result"
    }
   ],
   "source": [
    "FourRegimen_Analysis=pd.DataFrame()\n",
    "FourRegimen_Analysis=FourRegimen_Analysis.append(Capomulin_Analysis)\n",
    "FourRegimen_Analysis=FourRegimen_Analysis.append(Ramicane_Analysis)\n",
    "FourRegimen_Analysis=FourRegimen_Analysis.append(Infubinol_Analysis)\n",
    "FourRegimen_Analysis=FourRegimen_Analysis.append(Ceftamin_Analysis)\n",
    "FourRegimen_Analysis"
   ]
  },
  {
   "cell_type": "code",
   "execution_count": 422,
   "metadata": {},
   "outputs": [
    {
     "data": {
      "image/png": "[encoded data removed]",
      "text/plain": [
       "<Figure size 432x288 with 1 Axes>"
      ]
     },
     "metadata": {},
     "output_type": "display_data"
    }
   ],
   "source": [
    "fig1, ax1 = plt.subplots()\n",
    "ax1.set_title('Quantitative Tumor Volume Analysis')\n",
    "ax1.set_ylabel('Tumor Volume')\n",
    "treatment_data = [Capomulin[\"Tumor Volume (mm3)\"],Ramicane[\"Tumor Volume (mm3)\"],Infubinol[\"Tumor Volume (mm3)\"],Ceftamin[\"Tumor Volume (mm3)\"]]\n",
    "ax1.boxplot(treatment_data,flierprops=PinkDiamond,labels=FourRegimensForStudy)\n",
    "plt.savefig(\"./output/FourRegimentStudyBoxPlot.png\")\n",
    "plt.show()"
   ]
  },
  {
   "cell_type": "markdown",
   "metadata": {},
   "source": [
    "## Line and scatter plots"
   ]
  },
  {
   "cell_type": "code",
   "execution_count": 359,
   "metadata": {},
   "outputs": [
    {
     "data": {
      "text/html": [
       "<div>\n",
       "<style scoped>\n",
       "    .dataframe tbody tr th:only-of-type {\n",
       "        vertical-align: middle;\n",
       "    }\n",
       "\n",
       "    .dataframe tbody tr th {\n",
       "        vertical-align: top;\n",
       "    }\n",
       "\n",
       "    .dataframe thead th {\n",
       "        text-align: right;\n",
       "    }\n",
       "</style>\n",
       "<table border=\"1\" class=\"dataframe\">\n",
       "  <thead>\n",
       "    <tr style=\"text-align: right;\">\n",
       "      <th></th>\n",
       "      <th></th>\n",
       "      <th>Tumor Volume (mm3)</th>\n",
       "    </tr>\n",
       "    <tr>\n",
       "      <th>Drug Regimen</th>\n",
       "      <th>Timepoint</th>\n",
       "      <th></th>\n",
       "    </tr>\n",
       "  </thead>\n",
       "  <tbody>\n",
       "    <tr>\n",
       "      <th rowspan=\"5\" valign=\"top\">Capomulin</th>\n",
       "      <th>0</th>\n",
       "      <td>0.000000</td>\n",
       "    </tr>\n",
       "    <tr>\n",
       "      <th>5</th>\n",
       "      <td>0.448593</td>\n",
       "    </tr>\n",
       "    <tr>\n",
       "      <th>10</th>\n",
       "      <td>0.702684</td>\n",
       "    </tr>\n",
       "    <tr>\n",
       "      <th>15</th>\n",
       "      <td>0.838617</td>\n",
       "    </tr>\n",
       "    <tr>\n",
       "      <th>20</th>\n",
       "      <td>0.909731</td>\n",
       "    </tr>\n",
       "  </tbody>\n",
       "</table>\n",
       "</div>"
      ],
      "text/plain": [
       "                        Tumor Volume (mm3)\n",
       "Drug Regimen Timepoint                    \n",
       "Capomulin    0                    0.000000\n",
       "             5                    0.448593\n",
       "             10                   0.702684\n",
       "             15                   0.838617\n",
       "             20                   0.909731"
      ]
     },
     "execution_count": 359,
     "metadata": {},
     "output_type": "execute_result"
    }
   ],
   "source": [
    "TumorVolumeSEM = merged_data_complete.groupby([\"Drug Regimen\", \"Timepoint\"]).sem()[\"Tumor Volume (mm3)\"]\n",
    "TumorVolumeSEM = pd.DataFrame(TumorVolumeSEM)\n",
    "TumorVolumeSEM.head()"
   ]
  },
  {
   "cell_type": "code",
   "execution_count": 423,
   "metadata": {},
   "outputs": [
    {
     "data": {
      "image/png": "[encoded data removed]",
      "text/plain": [
       "<Figure size 432x288 with 1 Axes>"
      ]
     },
     "metadata": {},
     "output_type": "display_data"
    }
   ],
   "source": [
    "# Generate a line plot of time point versus tumor volume for a mouse treated with Capomulin\n",
    "#First Mouse Sample s185\n",
    "Capomulin_Data=merged_data_complete.loc[merged_data_complete[\"Drug Regimen\"] == 'Capomulin']\n",
    "PickOneMouse=Capomulin_Data[\"Mouse ID\"].head(1)\n",
    "PickOneMouse=\"s185\"\n",
    "Capomulin_Data_Fors185=pd.DataFrame({\"Timepoint\":Capomulin_Data.loc[Capomulin_Data[\"Mouse ID\"] == \"s185\"][\"Timepoint\"],\"Tumor Volume (mm3)\":Capomulin_Data.loc[Capomulin_Data[\"Mouse ID\"] == \"s185\"][\"Tumor Volume (mm3)\"]})\n",
    "x=Capomulin_Data_Fors185[\"Timepoint\"]\n",
    "y=Capomulin_Data_Fors185[\"Tumor Volume (mm3)\"]\n",
    "plt.plot(x,y,marker=\"o\")\n",
    "plt.xlabel(\"TimePoint\")\n",
    "plt.ylabel(\"Tumor Volume\")\n",
    "plt.title(\"Capomulin TumorVolume vs TimePoint for Single Mouse s185 \")\n",
    "plt.savefig(\"./output/TumorVolumeVsTimepoint_Mouse_s185.png\")\n",
    "plt.show()"
   ]
  },
  {
   "cell_type": "code",
   "execution_count": 424,
   "metadata": {},
   "outputs": [
    {
     "data": {
      "image/png": "[encoded data removed]",
      "text/plain": [
       "<Figure size 432x288 with 1 Axes>"
      ]
     },
     "metadata": {},
     "output_type": "display_data"
    }
   ],
   "source": [
    "# Generate a line plot of time point versus tumor volume for a mouse treated with Capomulin\n",
    "#Second Mouse Sample - x401\n",
    "Capomulin_Data=merged_data_complete.loc[merged_data_complete[\"Drug Regimen\"] == 'Capomulin']\n",
    "PickOneMouse=Capomulin_Data[\"Mouse ID\"].head(1)\n",
    "PickOneMouse=\"x401\"\n",
    "Capomulin_Data_Forx401=pd.DataFrame({\"Timepoint\":Capomulin_Data.loc[Capomulin_Data[\"Mouse ID\"] == \"x401\"][\"Timepoint\"],\"Tumor Volume (mm3)\":Capomulin_Data.loc[Capomulin_Data[\"Mouse ID\"] == \"x401\"][\"Tumor Volume (mm3)\"]})\n",
    "x=Capomulin_Data_Forx401[\"Timepoint\"]\n",
    "y=Capomulin_Data_Forx401[\"Tumor Volume (mm3)\"]\n",
    "plt.plot(x,y,marker=\"o\")\n",
    "plt.xlabel(\"TimePoint\")\n",
    "plt.ylabel(\"Tumor Volume\")\n",
    "plt.title(\"Capomulin TumorVolume vs TimePoint for Single Mouse x401 \")\n",
    "plt.savefig(\"./output/TumorVolumeVsTimepoint_Mouse_x401.png\")\n",
    "plt.show()"
   ]
  },
  {
   "cell_type": "code",
   "execution_count": 443,
   "metadata": {},
   "outputs": [
    {
     "data": {
      "image/png": "[encoded data removed]",
      "text/plain": [
       "<Figure size 432x288 with 1 Axes>"
      ]
     },
     "metadata": {},
     "output_type": "display_data"
    }
   ],
   "source": [
    "# Generate a line plot of time point versus tumor volume for a mouse treated with Capomulin\n",
    "#Third Mouse Sample - w150\n",
    "Capomulin_Data=merged_data_complete.loc[merged_data_complete[\"Drug Regimen\"] == 'Capomulin']\n",
    "PickOneMouse=\"w150\"\n",
    "Capomulin_Data_Forw150=pd.DataFrame({\"Timepoint\":Capomulin_Data.loc[Capomulin_Data[\"Mouse ID\"] == PickOneMouse][\"Timepoint\"],\"Tumor Volume (mm3)\":Capomulin_Data.loc[Capomulin_Data[\"Mouse ID\"] == PickOneMouse][\"Tumor Volume (mm3)\"]})\n",
    "x=Capomulin_Data_Forw150[\"Timepoint\"]\n",
    "y=Capomulin_Data_Forw150[\"Tumor Volume (mm3)\"]\n",
    "plt.plot(x,y,marker=\"o\")\n",
    "plt.xlabel(\"TimePoint\")\n",
    "plt.ylabel(\"Tumor Volume\")\n",
    "plt.title(\"Capomulin TumorVolume vs TimePoint for Single Mouse w150 \")\n",
    "plt.savefig(\"./output/TumorVolumeVsTimepoint_Mouse_w150.png\")\n",
    "plt.show()"
   ]
  },
  {
   "cell_type": "code",
   "execution_count": 444,
   "metadata": {},
   "outputs": [
    {
     "data": {
      "image/png": "[encoded data removed]",
      "text/plain": [
       "<Figure size 432x288 with 1 Axes>"
      ]
     },
     "metadata": {},
     "output_type": "display_data"
    }
   ],
   "source": [
    "########## METHOD 1 ##############################################################################\n",
    "# Generate a scatter plot of mouse weight versus average tumor volume for the Capomulin regimen\n",
    "Capomulin_Weight_MeanTV =pd.DataFrame(merged_data_complete.loc[merged_data_complete[\"Drug Regimen\"] == 'Capomulin'].groupby('Weight (g)')[\"Tumor Volume (mm3)\"].mean())\n",
    "plt.scatter(Capomulin_Weight_MeanTV,Capomulin_Weight_MeanTV.index,marker='o',edgecolors='face',linewidth=4,cmap='viridis')\n",
    "plt.xlabel(\"Weight\")\n",
    "plt.ylabel(\"Tumor Volume For Capomulin\")\n",
    "plt.title(\"Tumor Volume vs Weight\")\n",
    "plt.savefig(\"./output/TumorVolumeVsWeightForCapomulin.png\")\n",
    "plt.show()\n",
    "#merged_data_complete.loc[merged_data_complete[\"Drug Regimen\"] == 'Capomulin'].groupby('Weight (g)')[\"Tumor Volume (mm3)\"].mean()"
   ]
  },
  {
   "cell_type": "code",
   "execution_count": 410,
   "metadata": {},
   "outputs": [
    {
     "data": {
      "text/plain": [
       "36.6675677192"
      ]
     },
     "execution_count": 410,
     "metadata": {},
     "output_type": "execute_result"
    }
   ],
   "source": [
    "Average_TumorVolume_Capomulin=Capomulin[\"Tumor Volume (mm3)\"].mean()\n",
    "Average_TumorVolume_Capomulin"
   ]
  },
  {
   "cell_type": "code",
   "execution_count": 445,
   "metadata": {},
   "outputs": [
    {
     "data": {
      "image/png": "[encoded data removed]",
      "text/plain": [
       "<Figure size 432x288 with 1 Axes>"
      ]
     },
     "metadata": {},
     "output_type": "display_data"
    }
   ],
   "source": [
    "Capomulin_DataFrame=merged_data_complete.loc[merged_data_complete[\"Drug Regimen\"] == 'Capomulin']\n",
    "Capomulin_Weight_Data=Capomulin_DataFrame.groupby(\"Mouse ID\")['Weight (g)'].mean()\n",
    "Capomulin_TumorVolume_Data=Capomulin_DataFrame.groupby(\"Mouse ID\")['Tumor Volume (mm3)'].mean()\n",
    "plt.scatter([Capomulin_Weight_Data], [Capomulin_TumorVolume_Data], marker=\"h\", facecolors=\"pink\", edgecolors=\"blue\", alpha=0.75)\n",
    "plt.title(\"Capomulin Treatment\")\n",
    "plt.xlabel(\"Mouse Weight in grams\")\n",
    "plt.ylabel(\"Tumor Volume (mm3)\")\n",
    "plt.savefig(\"./output/CapomulinTreatment.png\")\n",
    "plt.show()"
   ]
  },
  {
   "cell_type": "code",
   "execution_count": 412,
   "metadata": {},
   "outputs": [
    {
     "name": "stdout",
     "output_type": "stream",
     "text": [
      "The Correlation Coefficient between Capomulin Weight and Tumour Volume is 0.84\n"
     ]
    }
   ],
   "source": [
    "Capomulin_Correlation_Coeff = st.pearsonr(Capomulin_Weight_Data,Capomulin_TumorVolume_Data)\n",
    "print(f\"The Correlation Coefficient between Capomulin Weight and Tumour Volume is {round(Capomulin_Correlation_Coeff [0],2)}\")"
   ]
  },
  {
   "cell_type": "code",
   "execution_count": 446,
   "metadata": {},
   "outputs": [
    {
     "data": {
      "text/plain": [
       "<function matplotlib.pyplot.show(*args, **kw)>"
      ]
     },
     "execution_count": 446,
     "metadata": {},
     "output_type": "execute_result"
    },
    {
     "data": {
      "image/png": "[encoded data removed]",
      "text/plain": [
       "<Figure size 432x288 with 1 Axes>"
      ]
     },
     "metadata": {},
     "output_type": "display_data"
    }
   ],
   "source": [
    "#Linear Regression using Seaborn\n",
    "import seaborn as sb\n",
    "fig5, ax5 = plt.subplots()\n",
    "sb.set(color_codes=True)\n",
    "df = pd.DataFrame(list(zip(Capomulin_Weight_Data, Capomulin_TumorVolume_Data)))\n",
    "sb.regplot(x=Capomulin_Weight_Data, y=Capomulin_TumorVolume_Data, data=df);\n",
    "\n",
    "plt.xlabel(\"Weight (g)\")\n",
    "plt.ylabel(\"Average of Tumor Volume (mm3)\")\n",
    "plt.title(\"Seaborn - Linear Regression Equation\")\n",
    "plt.savefig(\"./output/SeabornLinearRegression.png\")\n",
    "plt.show"
   ]
  },
  {
   "cell_type": "code",
   "execution_count": 390,
   "metadata": {},
   "outputs": [],
   "source": [
    "########## METHOD 2 ##############################################################################\n",
    "# Calculate the correlation coefficient and linear regression model for mouse weight and average tumor volume for the Capomulin regimen\n",
    "import statsmodels.api as sm\n",
    "from sklearn import linear_model\n",
    "#Linear Regression\n",
    "#In statistics, linear regression is a linear approach to modelling the relationship between a dependent variable and one or more independent variables. In the case of one independent variable it is called simple linear regression. \n",
    "#For more than one independent variable, the process is called mulitple linear regression. We will be dealing with simple linear regression in this tutorial.\n",
    "#Let X be the independent variable and Y be the dependent variable. \n",
    "#We will define a linear relationship between these two variables as follows:\n",
    "# Y = mX + C"
   ]
  },
  {
   "cell_type": "code",
   "execution_count": 152,
   "metadata": {},
   "outputs": [
    {
     "data": {
      "text/html": [
       "<table class=\"simpletable\">\n",
       "<caption>OLS Regression Results</caption>\n",
       "<tr>\n",
       "  <th>Dep. Variable:</th>       <td>Weight (g)</td>    <th>  R-squared (uncentered):</th>      <td>   0.993</td>\n",
       "</tr>\n",
       "<tr>\n",
       "  <th>Model:</th>                   <td>OLS</td>       <th>  Adj. R-squared (uncentered):</th> <td>   0.993</td>\n",
       "</tr>\n",
       "<tr>\n",
       "  <th>Method:</th>             <td>Least Squares</td>  <th>  F-statistic:       </th>          <td>   3376.</td>\n",
       "</tr>\n",
       "<tr>\n",
       "  <th>Date:</th>             <td>Tue, 21 Jan 2020</td> <th>  Prob (F-statistic):</th>          <td>2.47e-27</td>\n",
       "</tr>\n",
       "<tr>\n",
       "  <th>Time:</th>                 <td>13:48:03</td>     <th>  Log-Likelihood:    </th>          <td> -48.838</td>\n",
       "</tr>\n",
       "<tr>\n",
       "  <th>No. Observations:</th>      <td>    25</td>      <th>  AIC:               </th>          <td>   99.68</td>\n",
       "</tr>\n",
       "<tr>\n",
       "  <th>Df Residuals:</th>          <td>    24</td>      <th>  BIC:               </th>          <td>   100.9</td>\n",
       "</tr>\n",
       "<tr>\n",
       "  <th>Df Model:</th>              <td>     1</td>      <th>                     </th>              <td> </td>   \n",
       "</tr>\n",
       "<tr>\n",
       "  <th>Covariance Type:</th>      <td>nonrobust</td>    <th>                     </th>              <td> </td>   \n",
       "</tr>\n",
       "</table>\n",
       "<table class=\"simpletable\">\n",
       "<tr>\n",
       "           <td></td>             <th>coef</th>     <th>std err</th>      <th>t</th>      <th>P>|t|</th>  <th>[0.025</th>    <th>0.975]</th>  \n",
       "</tr>\n",
       "<tr>\n",
       "  <th>Tumor Volume (mm3)</th> <td>    0.4952</td> <td>    0.009</td> <td>   58.103</td> <td> 0.000</td> <td>    0.478</td> <td>    0.513</td>\n",
       "</tr>\n",
       "</table>\n",
       "<table class=\"simpletable\">\n",
       "<tr>\n",
       "  <th>Omnibus:</th>       <td> 0.711</td> <th>  Durbin-Watson:     </th> <td>   1.732</td>\n",
       "</tr>\n",
       "<tr>\n",
       "  <th>Prob(Omnibus):</th> <td> 0.701</td> <th>  Jarque-Bera (JB):  </th> <td>   0.699</td>\n",
       "</tr>\n",
       "<tr>\n",
       "  <th>Skew:</th>          <td> 0.116</td> <th>  Prob(JB):          </th> <td>   0.705</td>\n",
       "</tr>\n",
       "<tr>\n",
       "  <th>Kurtosis:</th>      <td> 2.215</td> <th>  Cond. No.          </th> <td>    1.00</td>\n",
       "</tr>\n",
       "</table><br/><br/>Warnings:<br/>[1] Standard Errors assume that the covariance matrix of the errors is correctly specified."
      ],
      "text/plain": [
       "<class 'statsmodels.iolib.summary.Summary'>\n",
       "\"\"\"\n",
       "                                 OLS Regression Results                                \n",
       "=======================================================================================\n",
       "Dep. Variable:             Weight (g)   R-squared (uncentered):                   0.993\n",
       "Model:                            OLS   Adj. R-squared (uncentered):              0.993\n",
       "Method:                 Least Squares   F-statistic:                              3376.\n",
       "Date:                Tue, 21 Jan 2020   Prob (F-statistic):                    2.47e-27\n",
       "Time:                        13:48:03   Log-Likelihood:                         -48.838\n",
       "No. Observations:                  25   AIC:                                      99.68\n",
       "Df Residuals:                      24   BIC:                                      100.9\n",
       "Df Model:                           1                                                  \n",
       "Covariance Type:            nonrobust                                                  \n",
       "======================================================================================\n",
       "                         coef    std err          t      P>|t|      [0.025      0.975]\n",
       "--------------------------------------------------------------------------------------\n",
       "Tumor Volume (mm3)     0.4952      0.009     58.103      0.000       0.478       0.513\n",
       "==============================================================================\n",
       "Omnibus:                        0.711   Durbin-Watson:                   1.732\n",
       "Prob(Omnibus):                  0.701   Jarque-Bera (JB):                0.699\n",
       "Skew:                           0.116   Prob(JB):                        0.705\n",
       "Kurtosis:                       2.215   Cond. No.                         1.00\n",
       "==============================================================================\n",
       "\n",
       "Warnings:\n",
       "[1] Standard Errors assume that the covariance matrix of the errors is correctly specified.\n",
       "\"\"\""
      ]
     },
     "execution_count": 152,
     "metadata": {},
     "output_type": "execute_result"
    }
   ],
   "source": [
    "X = Capomulin_TumorVolume_Data\n",
    "y = Capomulin_Weight_Data\n",
    "\n",
    "# Note the difference in argument order - Ordinary Least Square\n",
    "model = sm.OLS(y, X).fit()\n",
    "predictions = model.predict(X) # make the predictions by the model\n",
    "\n",
    "# Print out the statistics\n",
    "model.summary()"
   ]
  },
  {
   "cell_type": "code",
   "execution_count": 393,
   "metadata": {},
   "outputs": [
    {
     "data": {
      "image/png": "[encoded data removed]",
      "text/plain": [
       "<Figure size 432x288 with 1 Axes>"
      ]
     },
     "metadata": {},
     "output_type": "display_data"
    }
   ],
   "source": [
    "lm = linear_model.LinearRegression()\n",
    "X = Capomulin_Weight_Data\n",
    "Y = Capomulin_TumorVolume_Data\n",
    "plt.scatter(X, Y,marker=\"h\", facecolors=\"pink\", edgecolors=\"blue\", alpha=0.75)\n",
    "plt.title(\"Capomulin Treatment\")\n",
    "plt.xlabel(\"Mouse Weight in grams\")\n",
    "plt.ylabel(\"Tumor Volume (mm3)\")\n",
    "plt.show()"
   ]
  },
  {
   "cell_type": "code",
   "execution_count": 447,
   "metadata": {
    "scrolled": true
   },
   "outputs": [
    {
     "name": "stdout",
     "output_type": "stream",
     "text": [
      "0.9544396890241045 21.552160532685015\n"
     ]
    },
    {
     "data": {
      "image/png": "[encoded data removed]",
      "text/plain": [
       "<Figure size 432x288 with 1 Axes>"
      ]
     },
     "metadata": {},
     "output_type": "display_data"
    }
   ],
   "source": [
    "# Building the model\n",
    "X_mean = np.mean(X)\n",
    "Y_mean = np.mean(Y)\n",
    "\n",
    "#Least Square Method \n",
    "#===========================================================\n",
    "# Formula \n",
    "# m=(x(i)-avg(x))(y(i)-avg(y))/(x(i)-avg(x))**2\n",
    "#===========================================================\n",
    "\n",
    "#Initalize the Numerator and Denomenator for \"m\" calculation\n",
    "Numerator = 0\n",
    "Denomenator = 0\n",
    "\n",
    "#loop through the X to calculate \"m\"\n",
    "\n",
    "for i in range(len(X)):\n",
    "    Numerator += (X[i] - X_mean)*(Y[i] - Y_mean)\n",
    "    Denomenator += (X[i] - X_mean)**2\n",
    "m = Numerator / Denomenator\n",
    "c = Y_mean - m*X_mean\n",
    "\n",
    "print (m, c)\n",
    "# Making predictions\n",
    "PredictiveAnalysis_Y = m*X + c\n",
    "#Actual\n",
    "plt.scatter(X, Y,color='lightblue',label=\"Actual Scatter\") # actual\n",
    "plt.scatter(X, PredictiveAnalysis_Y, color='blue',label=\"Predicted\")\n",
    "# Predicted\n",
    "plt.plot([min(X), max(X)], [min(PredictiveAnalysis_Y), max(PredictiveAnalysis_Y)], color='green',label=\"Y=m*X + c\") \n",
    "plt.text(min(X),min(PredictiveAnalysis_Y), \n",
    "         r'MinValue',\n",
    "         fontdict={'size':11,'color':'purple'})\n",
    "plt.text(X.mean(),PredictiveAnalysis_Y.mean(), \n",
    "         r'Y=m*X + c',\n",
    "         fontdict={'size':11,'color':'purple'})\n",
    "plt.text(max(X),max(PredictiveAnalysis_Y), \n",
    "         r'MaxValue',\n",
    "         fontdict={'size':11,'color':'purple'})\n",
    "\n",
    "plt.xlabel(\"Weight (g)\")\n",
    "plt.ylabel(\"Average of Tumor Volume (mm3)\")\n",
    "plt.title(\"Line Regression Equation\")\n",
    "plt.legend()\n",
    "plt.savefig(\"./output/LinearRegression.png\")\n",
    "plt.show()"
   ]
  },
  {
   "cell_type": "code",
   "execution_count": null,
   "metadata": {},
   "outputs": [],
   "source": []
  }
 ],
 "metadata": {
  "anaconda-cloud": {},
  "kernelspec": {
   "display_name": "Python 3",
   "language": "python",
   "name": "python3"
  },
  "language_info": {
   "codemirror_mode": {
    "name": "ipython",
    "version": 3
   },
   "file_extension": ".py",
   "mimetype": "text/x-python",
   "name": "python",
   "nbconvert_exporter": "python",
   "pygments_lexer": "ipython3",
   "version": "3.6.9"
  }
 },
 "nbformat": 4,
 "nbformat_minor": 2
}
